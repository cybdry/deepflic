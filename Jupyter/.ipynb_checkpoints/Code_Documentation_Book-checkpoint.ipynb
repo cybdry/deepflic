{
 "cells": [
  {
   "cell_type": "markdown",
   "id": "4e443e87",
   "metadata": {},
   "source": [
    "# Project Description \n",
    "<div class='alert alert-block alert-info'>The following project  is named ***Deepflic*** . This project aims to design a multi-camera distributed system connected to an central processor to recognize faces and send an alert message to the central system when one of the cameras detects a wanted person by police.The central processor must able to get information from distributed cameras and and broadcasting information to these cameras.\n",
    "The main programming languge for this projetc is ***Python*** version 3.9 and some crutical part that need high performance  will be done on ***C/C++***  and  ***Cython***\n",
    "</div>\n",
    "\n",
    "# Setting Up Developement Enviroment\n",
    "<div class='alert aler-block alert-info'>\n",
    "OpenCV stands for **Open Source Computer Vision**. It is a free computer vision library that allows you to manipulate images and videos to accomplish a variety of tasks, from displaying frames from a webcam to teaching a robot\n",
    "to recognize real-life objects. <br>\n",
    "In this project, we will learn to leverage the immense potential of OpenCV with the\n",
    "**Python programming language**. Python is an elegant language with a relatively\n",
    "shallow learning curve and very powerful features. This part is a quick guide to\n",
    "setting up Python 3.8, OpenCV, and other related libraries. After setup, we also look\n",
    "at OpenCV's Python sample scripts and documentation..<br>\n",
    "\n",
    "The following related libraries will be needed for the project:\n",
    "    \n",
    "- **opencv-python:** OpenCV (Open Source Computer Vision Library: http://opencv.org) is an open-source library that includes several hundreds of computer vision algorithms. The document describes the so-called OpenCV 2.x API, which is essentially a C++ API, as opposed to the C-based OpenCV 1.x API (C API is deprecated and not tested with \"C\" compiler since OpenCV 2.4 release.\n",
    "    - ***pip install opencv-python***\n",
    "    \n",
    "- **opencv-contrib-python:** opencv \"extra\" modules, contributed functionality. New modules quite often do not have stable API, and they are not well-tested.It should be noted that OpenCV requires numpy has been installed when installing opencv-contrib-python\n",
    "    - ***pip install opencv-contrib-python***\n",
    "    \n",
    "- **numpy:** This library is a dependency of OpenCV's Python bindings.It provides numeric computing functionality, including efficient arrays.\n",
    "    - ***pip install numpy***\n",
    "    \n",
    "- **scipy:** This library is a scientific computing library that is closely related to NumPy. It is not required by OpenCV, but it is useful for manipulating datain OpenCV images.\n",
    "    - ***pip install scipy***\n",
    "    \n",
    "- **matplotlib:** Matplotlib is a comprehensive library for creating static, animated, and interactive visualizations in Python. Matplotlib makes easy things easy and hard things possible.It should be noted that matplotlib requires kiwisolver , pyparsing , six ,cycler , and python-dateutil.\n",
    "    - ***pip install matplotlib***\n",
    "- **pyqt5:** PyQt5 is a comprehensive set of Python bindings for Qt v5. It is implemented as more than 35 extension modules and enables Python to be used as an alternative application development language to C++ on all supported platforms including iOS and Android.\n",
    "    - ***pip install pyqt5***\n",
    "- **scikit-image:** scikit-image is a collection of algorithms for image processing.\n",
    "    - ***pip install scikit-image***\n",
    "- **requets:** It should be noted that requests requires urllib3 , chardet , certifi , and idna .\n",
    "    - ***pip install requests***\n",
    "- **face-recognition:** It should be noted that face-recognition requires dlib , Click , numpy , face-recognition-models , and pillow .\n",
    "    - ***pip install face-recognition***\n",
    "</div>\n",
    "\n",
    "# Hardware specifications\n",
    "<div class='alert alert-block alert-info'>\n",
    "The project was build and fully tested on a hardware with specifications  as follows:\n",
    "    \n",
    "- Intel(R) Core(TM) i5-8250U CPU @ 1.60GHz\n",
    "- 1 Tb Hardisk\n",
    "- 8 GB RAM\n",
    "- Debian 11 based operating Systems  and Ubuntu Linux 20.04 LTS and the code source of this  project  has been written totally with vim editor .\n",
    "    </div>\n",
    " "
   ]
  },
  {
   "cell_type": "markdown",
   "id": "7964573b",
   "metadata": {},
   "source": [
    " #  A theoretical introduction to the OpenCV library\n",
    " <div>\n",
    " <img 'assets/opencv1_1.png'>\n",
    " </div>"
   ]
  },
  {
   "cell_type": "code",
   "execution_count": null,
   "id": "f946b037",
   "metadata": {},
   "outputs": [],
   "source": []
  },
  {
   "cell_type": "code",
   "execution_count": null,
   "id": "539b32ed",
   "metadata": {},
   "outputs": [],
   "source": []
  }
 ],
 "metadata": {
  "kernelspec": {
   "display_name": "Python 3 (ipykernel)",
   "language": "python",
   "name": "python3"
  },
  "language_info": {
   "codemirror_mode": {
    "name": "ipython",
    "version": 3
   },
   "file_extension": ".py",
   "mimetype": "text/x-python",
   "name": "python",
   "nbconvert_exporter": "python",
   "pygments_lexer": "ipython3",
   "version": "3.8.12"
  }
 },
 "nbformat": 4,
 "nbformat_minor": 5
}
